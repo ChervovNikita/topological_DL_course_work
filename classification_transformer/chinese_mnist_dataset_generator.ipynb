{
 "cells": [
  {
   "cell_type": "code",
   "execution_count": 22,
   "metadata": {},
   "outputs": [],
   "source": [
    "import torch\n",
    "import torchvision\n",
    "import gudhi as gd\n",
    "from gudhi.wasserstein import wasserstein_distance\n",
    "\n",
    "from scipy.io import loadmat\n",
    "from sklearn.model_selection import train_test_split\n",
    "import numpy as np\n",
    "from copy import deepcopy\n",
    "from tqdm import tqdm\n",
    "import math\n",
    "import matplotlib.pyplot as plt\n",
    "from scipy.ndimage import distance_transform_edt\n",
    "%matplotlib inline\n",
    "\n",
    "from ripser import lower_star_img\n",
    "from ripser import Rips\n",
    "\n",
    "import persim\n",
    "import diagram2vec\n",
    "\n",
    "import torch\n",
    "from torch.utils.data import Dataset, DataLoader\n",
    "from torch import nn\n",
    "from torch.nn import functional as F\n",
    "\n",
    "import gudhi as gd\n",
    "from gudhi.wasserstein import wasserstein_distance as dist_w\n",
    "\n",
    "from IPython.display import clear_output\n",
    "import pandas as pd\n",
    "from PIL import Image\n",
    "import importlib"
   ]
  },
  {
   "cell_type": "code",
   "execution_count": 49,
   "metadata": {},
   "outputs": [],
   "source": [
    "import utils\n",
    "import datasets\n",
    "importlib.reload(utils)\n",
    "importlib.reload(datasets)\n",
    "from utils import *\n",
    "from datasets import *"
   ]
  },
  {
   "cell_type": "code",
   "execution_count": 24,
   "metadata": {},
   "outputs": [],
   "source": [
    "data = pd.read_csv('../data/chinese-mnist/chinese_mnist.csv')"
   ]
  },
  {
   "cell_type": "code",
   "execution_count": 25,
   "metadata": {},
   "outputs": [],
   "source": [
    "train, test = train_test_split(data, test_size=0.2)"
   ]
  },
  {
   "cell_type": "code",
   "execution_count": 26,
   "metadata": {},
   "outputs": [],
   "source": [
    "value_mapping = {\n",
    "    val: i\n",
    "    for i, val in enumerate(sorted(train.value.unique()))\n",
    "}\n",
    "\n",
    "def get_pairs(df):\n",
    "    images = []\n",
    "    labels = []\n",
    "    for _, row in df.iterrows():\n",
    "        img = Image.open(f'../data/chinese-mnist/data/data/input_{row.suite_id}_{row.sample_id}_{row.code}.jpg')\n",
    "        images.append(np.asarray(img))\n",
    "        labels.append(value_mapping[row.value])\n",
    "    return images, labels"
   ]
  },
  {
   "cell_type": "code",
   "execution_count": 27,
   "metadata": {},
   "outputs": [],
   "source": [
    "X_train, y_train = get_pairs(train)\n",
    "X_test, y_test = get_pairs(test)"
   ]
  },
  {
   "cell_type": "code",
   "execution_count": 46,
   "metadata": {},
   "outputs": [
    {
     "name": "stderr",
     "output_type": "stream",
     "text": [
      "100%|██████████| 12000/12000 [01:14<00:00, 160.72it/s]\n",
      "100%|██████████| 3000/3000 [00:18<00:00, 158.37it/s]\n"
     ]
    }
   ],
   "source": [
    "train_cedt = MyDatasetCEDT(X_train, y_train)\n",
    "test_cedt = MyDatasetCEDT(X_test, y_test)\n",
    "torch.save(train_cedt, '../data/chinese-mnist/cedt_filter_train.pt')\n",
    "torch.save(test_cedt, '../data/chinese-mnist/cedt_filter_test.pt')"
   ]
  },
  {
   "cell_type": "code",
   "execution_count": 51,
   "metadata": {},
   "outputs": [
    {
     "name": "stderr",
     "output_type": "stream",
     "text": [
      "  0%|          | 57/12000 [00:22<1:16:57,  2.59it/s]\n",
      " 16%|█▋        | 1960/12000 [00:12<01:02, 161.93it/s]\n",
      "\n",
      " 71%|███████   | 8471/12000 [00:51<00:22, 154.15it/s]"
     ]
    }
   ],
   "source": [
    "filter_params1 = np.arange(1) / 1 * 2 * math.pi\n",
    "train_dataset1 = MyDatasetDirection(X_train, y_train, filter_params1)\n",
    "test_dataset1 = MyDatasetDirection(X_test, y_test, filter_params1)\n",
    "\n",
    "filter_params4 = np.arange(4) / 4 * 2 * math.pi\n",
    "train_dataset4 = MyDatasetDirection(X_train, y_train, filter_params4)\n",
    "test_dataset4 = MyDatasetDirection(X_test, y_test, filter_params4)\n",
    "\n",
    "filter_params10 = np.arange(10) / 10 * 2 * math.pi\n",
    "train_dataset10 = MyDatasetDirection(X_train, y_train, filter_params10)\n",
    "test_dataset10 = MyDatasetDirection(X_test, y_test, filter_params10)\n",
    "\n",
    "torch.save(train_dataset1, '../data/chinese-mnist/1_dir_filter_train.pt')\n",
    "torch.save(test_dataset1, '../data/chinese-mnist/1_dir_filter_test.pt')\n",
    "torch.save(train_dataset4, '../data/chinese-mnist/4_dir_filter_train.pt')\n",
    "torch.save(test_dataset4, '../data/chinese-mnist/4_dir_filter_test.pt')\n",
    "torch.save(train_dataset10, '../data/chinese-mnist/10_dir_filter_train.pt')\n",
    "torch.save(test_dataset10, '../data/chinese-mnist/10_dir_filter_test.pt')"
   ]
  },
  {
   "cell_type": "code",
   "execution_count": null,
   "metadata": {},
   "outputs": [],
   "source": [
    "torch.manual_seed(42)\n",
    "conv1 = nn.Conv2d(in_channels=1, out_channels=1, kernel_size=3)\n",
    "\n",
    "torch.manual_seed(43)\n",
    "conv4 = nn.Conv2d(in_channels=1, out_channels=4, kernel_size=3)\n",
    "\n",
    "torch.manual_seed(44)\n",
    "conv10 = nn.Conv2d(in_channels=1, out_channels=10, kernel_size=3)\n",
    "\n",
    "train_conv_dataset1 = MyDatasetConv(X_train, y_train, conv1)\n",
    "test_conv_dataset1 = MyDatasetConv(X_test, y_test, conv1)\n",
    "\n",
    "train_conv_dataset4 = MyDatasetConv(X_train, y_train, conv4)\n",
    "test_conv_dataset4 = MyDatasetConv(X_test, y_test, conv4)\n",
    "\n",
    "train_conv_dataset10 = MyDatasetConv(X_train, y_train, conv10)\n",
    "test_conv_dataset10 = MyDatasetConv(X_test, y_test, conv10)\n",
    "\n",
    "torch.save(train_conv_dataset1, '../data/chinese-mnist/1_conv_filter_train.pt')\n",
    "torch.save(test_conv_dataset1, '../data/chinese-mnist/1_conv_filter_test.pt')\n",
    "torch.save(train_conv_dataset4, '../data/chinese-mnist/4_conv_filter_train.pt')\n",
    "torch.save(test_conv_dataset4, '../data/chinese-mnist/4_conv_filter_test.pt')\n",
    "torch.save(train_conv_dataset10, '../data/chinese-mnist/10_conv_filter_train.pt')\n",
    "torch.save(test_conv_dataset10, '../data/chinese-mnist/10_conv_filter_test.pt')"
   ]
  },
  {
   "cell_type": "code",
   "execution_count": null,
   "metadata": {},
   "outputs": [],
   "source": []
  }
 ],
 "metadata": {
  "kernelspec": {
   "display_name": "venv",
   "language": "python",
   "name": "python3"
  },
  "language_info": {
   "codemirror_mode": {
    "name": "ipython",
    "version": 3
   },
   "file_extension": ".py",
   "mimetype": "text/x-python",
   "name": "python",
   "nbconvert_exporter": "python",
   "pygments_lexer": "ipython3",
   "version": "3.10.0"
  }
 },
 "nbformat": 4,
 "nbformat_minor": 2
}
